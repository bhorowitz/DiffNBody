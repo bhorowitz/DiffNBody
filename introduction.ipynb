{
 "cells": [
  {
   "cell_type": "code",
   "execution_count": 1,
   "metadata": {
    "collapsed": true,
    "jupyter": {
     "outputs_hidden": true
    },
    "tags": []
   },
   "outputs": [
    {
     "name": "stdout",
     "output_type": "stream",
     "text": [
      "Fri Feb 21 09:24:20 2025       \n",
      "+---------------------------------------------------------------------------------------+\n",
      "| NVIDIA-SMI 530.30.02              Driver Version: 530.30.02    CUDA Version: 12.1     |\n",
      "|-----------------------------------------+----------------------+----------------------+\n",
      "| GPU  Name                  Persistence-M| Bus-Id        Disp.A | Volatile Uncorr. ECC |\n",
      "| Fan  Temp  Perf            Pwr:Usage/Cap|         Memory-Usage | GPU-Util  Compute M. |\n",
      "|                                         |                      |               MIG M. |\n",
      "|=========================================+======================+======================|\n",
      "|   0  NVIDIA GeForce RTX 2080 Ti      Off| 00000000:1A:00.0 Off |                  N/A |\n",
      "| 16%   26C    P8                1W / 250W|     18MiB / 11264MiB |      0%      Default |\n",
      "|                                         |                      |                  N/A |\n",
      "+-----------------------------------------+----------------------+----------------------+\n",
      "|   1  NVIDIA GeForce RTX 2080 Ti      Off| 00000000:1B:00.0 Off |                  N/A |\n",
      "| 17%   34C    P8               34W / 250W|      1MiB / 11264MiB |      0%      Default |\n",
      "|                                         |                      |                  N/A |\n",
      "+-----------------------------------------+----------------------+----------------------+\n",
      "|   2  Tesla V100-PCIE-32GB            Off| 00000000:1F:00.0 Off |                    0 |\n",
      "| N/A   71C    P0              239W / 250W|  32364MiB / 32768MiB |    100%      Default |\n",
      "|                                         |                      |                  N/A |\n",
      "+-----------------------------------------+----------------------+----------------------+\n",
      "|   3  Tesla V100-PCIE-32GB            Off| 00000000:20:00.0 Off |                    0 |\n",
      "| N/A   29C    P0               23W / 250W|      0MiB / 32768MiB |      0%      Default |\n",
      "|                                         |                      |                  N/A |\n",
      "+-----------------------------------------+----------------------+----------------------+\n",
      "|   4  Tesla V100-PCIE-32GB            Off| 00000000:21:00.0 Off |                    0 |\n",
      "| N/A   31C    P0               25W / 250W|      0MiB / 32768MiB |      0%      Default |\n",
      "|                                         |                      |                  N/A |\n",
      "+-----------------------------------------+----------------------+----------------------+\n",
      "|   5  Tesla V100-PCIE-32GB            Off| 00000000:22:00.0 Off |                    0 |\n",
      "| N/A   69C    P0              214W / 250W|  27860MiB / 32768MiB |    100%      Default |\n",
      "|                                         |                      |                  N/A |\n",
      "+-----------------------------------------+----------------------+----------------------+\n",
      "|   6  NVIDIA GeForce RTX 2080 Ti      Off| 00000000:23:00.0 Off |                  N/A |\n",
      "| 16%   33C    P8               27W / 250W|      1MiB / 11264MiB |      0%      Default |\n",
      "|                                         |                      |                  N/A |\n",
      "+-----------------------------------------+----------------------+----------------------+\n",
      "|   7  NVIDIA GeForce RTX 2080 Ti      Off| 00000000:24:00.0 Off |                  N/A |\n",
      "| 16%   30C    P8                1W / 250W|    692MiB / 11264MiB |      0%      Default |\n",
      "|                                         |                      |                  N/A |\n",
      "+-----------------------------------------+----------------------+----------------------+\n",
      "                                                                                         \n",
      "+---------------------------------------------------------------------------------------+\n",
      "| Processes:                                                                            |\n",
      "|  GPU   GI   CI        PID   Type   Process name                            GPU Memory |\n",
      "|        ID   ID                                                             Usage      |\n",
      "|=======================================================================================|\n",
      "|    0   N/A  N/A    142987      G   /usr/bin/X                                    9MiB |\n",
      "|    0   N/A  N/A    143058      G   /usr/bin/gnome-shell                          6MiB |\n",
      "|    2   N/A  N/A     56477      C   P2                                        32360MiB |\n",
      "|    5   N/A  N/A     54193      C   P2                                        27856MiB |\n",
      "|    7   N/A  N/A     20681      C   python                                      688MiB |\n",
      "+---------------------------------------------------------------------------------------+\n"
     ]
    }
   ],
   "source": [
    "#Selecting a GPU on my system...\n",
    "!nvidia-smi"
   ]
  },
  {
   "cell_type": "code",
   "execution_count": 2,
   "metadata": {},
   "outputs": [],
   "source": [
    "import os\n",
    "\n",
    "#using GPU, comment out if on CPU\n",
    "os.environ['CUDA_DEVICE_ORDER'] = 'PCI_BUS_ID'\n",
    "os.environ['CUDA_VISIBLE_DEVICES'] = '1'\n"
   ]
  },
  {
   "cell_type": "markdown",
   "metadata": {},
   "source": [
    "#### Context\n",
    "As a starting point, we want to try to undersand the phase space evolution of a non-relativistic, pressure-less fluid that interacts only gravitationally (i.e. cold dark matter). The evolution of the phase space distribution function, $f(x,p,t)$, of this fluid in a fixed background can be described by the Vlasov equations,\n",
    "\n",
    "$\\frac{\\partial f}{\\partial t} + \\frac{1}{m} \\mathbf{p} \\cdot \\nabla f \n",
    "                             - m \\nabla \\phi \\cdot \\frac{\\partial f}{\\partial \\mathbf{p}} = 0 \\, \\, ,$\n",
    "                             \n",
    "where $\\mathbf{p}=m\\mathbf{u}_i$ is the momenta, $m$ is the particle mass, and $\\phi$ is the gravitational potential. In practice solving this as a continuum equation is impractical in the astrophysical context and instead the common approach is to monte carlo sample it at some initial time. We then evolve the discrete particles as an N-body system. Hamilton's equations for this system become\n",
    "\n",
    "$    \\frac{d \\mathbf{x}_i}{d t}       = \\mathbf{u}_i \\\\\n",
    "    \\frac{d (\\mathbf{u}_i)}{d t} = \\mathbf{g}_i$\n",
    "    \n",
    "where $\\mathbf{x}$ ($\\mathbf{u}$) is the location (peculiar velocity) for $i$th particle and $\\mathbf{g}_i$ is the gravitational field evaluated at $\\mathbf{x}_i$ at time $t$.\n",
    "\n",
    "We are mostly interested in the inverse problem: Given some (noisy) measurement of $f(x,p,t_f)$ what is the distribution of possible $f(x,p,t_o)$?"
   ]
  },
  {
   "cell_type": "markdown",
   "metadata": {},
   "source": [
    "### Some preliminary thoughts... (disorganized)\n",
    "\n",
    "1) Since we are interested in the phase space distribution $f(x,p,t)$ we need to map the particle locations/velocities to our choosen coordinates to get an estimate of f. This can be done differentiably via cic_readout-style commands.\n",
    "\n",
    "2) In full generality, we might want to essentially want to make a differentiable pipeline to go from any $f(x,p,t_0)$ to inital particle position/velocities $\\mathbf{x}_i$, $\\mathbf{u}_i$, to final $f(x,p,t_f)$, possibly followed by some \"observable\" function which projects the final distribution function to some other space. (i.e. maybe we only know final positions but not velocities, or only velocities in certain directions or at certain points)\n",
    "\n",
    "3) In practice, we likely have/want/need a prior on the initial distribution or otherwise constrain it to have some parametrized form. In this case we could maybe have some principled way to go from a known input distribution of points to the initial points. This could depend on a stochastic field we might want to constrain (for example, the intitial phases of a gaussian random field used to model the initial state of the univers) or possibly a random number that will be treated as an input with a fixed distribution (a.la. the reparametrization trick). \n",
    "\n",
    "4) The fully general case where we map from $f(x,p,t_0)$ to inital particle position/velocities seems a bit hard to do differentiably in a stable way. There is maybe some trick from diffusion models to be used here. I have implemented an iterative, multidimensional, inverse sampling transform method which seems to vaguely work. (will add notebook eventually) However the derivatives are a bit noisy... Probably to start it makes sense to test things on parametrized input distributions!\n",
    "\n",
    "5) There are a couple of ways to try to back-propogate through the equations of motion, one is the \"direct\" approach where the equations of motions are implemented naively in JAX and see what JAX jacfwd and/or jacrev spit out. The alternative is to use the adjoint method which opens up the idea to basically inverse solve the equations and calculate the derivates while doing so. This allows one to avoid saving intermediate states and possibly reduce computations.\n",
    "\n",
    "6) In the context of going beyond brute-force force calculations, this opens up the question of whether one could build the tree structure on the forward pass and use the same tree structure on the backward pass (very memory intensive?) or possibly rebuild the tree while on the backward pass...\n",
    "\n",
    "7) Some helpful particle -> field functions are found in the jaxpm (direct approach) and/or pmwd (adjoint approach)."
   ]
  },
  {
   "cell_type": "markdown",
   "metadata": {},
   "source": [
    "### Helpful References/Resources\n",
    "\n",
    "#### Github repos\n",
    "\n",
    "* PMWD: https://github.com/eelregit/pmwd\n",
    "* JAXPM: https://github.com/DifferentiableUniverseInitiative/JaxPM\n",
    "* CUDA Barnes Hutt Algorith: https://github.com/Patistar/Nbody-Barnes-Hut-CUDA\n",
    "\n",
    "#### Some useful blog post\n",
    "\n",
    "https://patterns.eecs.berkeley.edu/?page_id=193\n",
    "\n",
    "\n",
    "#### Some other papers\n",
    "DiffHOD: https://academic.oup.com/mnras/article/529/3/2473/7598219\n"
   ]
  },
  {
   "cell_type": "code",
   "execution_count": 312,
   "metadata": {},
   "outputs": [],
   "source": [
    "import jax.numpy as jnp\n",
    "import jax\n",
    "from jax import vmap\n",
    "\n",
    "#two different force calculators, first one does all forces at once, second one can do it in batches for memory reasons (but seems much slower in general)\n",
    "\n",
    "def efficient_pairwise_forces(pos, softening=1e-5):\n",
    "        G = jnp.array([vmap(vmap(jnp.subtract, (None, 0)), (0, None))(pos[:,i], pos[:,i]) for i in range(0,3)]) #np.subtract.outer?\n",
    "        \n",
    "        #G_wrap = jnp.where(G > 0.5 * dimensions, G - dimensions, G) #wrap around axis for periodic BC, \n",
    "        \n",
    "        r2 = jnp.clip((G**2).sum(axis=0),softening,jnp.inf) #not really \"normal\" softening, fix maybe\n",
    "        r3 = r2**(3/2)\n",
    "        f = G/(r3+1.0E10*jnp.eye(r2.shape[0])) #second term is to ignore self-force\n",
    "        forces2 = -f.sum(axis=2).T\n",
    "\n",
    "        return forces2\n",
    "@jax.jit\n",
    "def pairwise_forces(positions, softening=1e-3):\n",
    "    \"\"\"\n",
    "    Compute pairwise forces using JAX scan for efficient batched computation.\n",
    "    \n",
    "    Args:\n",
    "        positions: (N, 3) particle positions\n",
    "        masses: (N,) particle masses\n",
    "        softening: Numerical stability parameter\n",
    "    \n",
    "    Returns:\n",
    "        Forces: (N, 3) total forces on each particle\n",
    "    \"\"\"\n",
    "    def compute_particle_forces(carry, particle_index):\n",
    "        # Extract current particle position and mass\n",
    "        current_pos = positions[particle_index]\n",
    "        \n",
    "        # Compute differences from all other particles\n",
    "        diff = current_pos[jnp.newaxis, :] - positions\n",
    "        distances = jnp.sqrt(jnp.sum(diff**2, axis=-1) + softening**2)\n",
    "        G_wrap = distances #jnp.where(distances > 0.5 * dimensions, distances - dimensions, distances)\n",
    "\n",
    "        # Prevent self-interaction\n",
    "        force_mask = (distances > softening)\n",
    "        \n",
    "        # Gravitational force computation\n",
    "        force_magnitudes = 1 / (distances**2)\n",
    "        \n",
    "        # Force vectors\n",
    "        unit_vectors = diff / distances[:, jnp.newaxis]\n",
    "        particle_forces = jnp.sum(force_magnitudes[:, jnp.newaxis] * unit_vectors, axis=0)\n",
    "        \n",
    "        return carry, -particle_forces\n",
    "    \n",
    "    # Use JAX scan to compute forces for each particle\n",
    "    _, all_forces = jax.lax.scan(compute_particle_forces, None, jnp.arange(positions.shape[0]))\n",
    "    \n",
    "    return all_forces\n",
    "\n",
    "\n",
    "def make_ode_pp(softening=1e-3,\n",
    "               grav= 1.0):\n",
    "    @jax.jit\n",
    "    def nbody_ode(state,t):\n",
    "        \"\"\"\n",
    "        state is a tuple (position, velocities)\n",
    "        \"\"\"\n",
    "        pos, vel  = state\n",
    "\n",
    "        forces = efficient_pairwise_forces(pos,softening=softening)\n",
    "\n",
    "\n",
    "        # Computes the update of position (drift)\n",
    "        dpos = vel\n",
    "\n",
    "        # Computes the update of velocity (kick)\n",
    "        dvel = grav*forces\n",
    "        \n",
    "        return dpos, dvel\n",
    "\n",
    "    return nbody_ode"
   ]
  },
  {
   "cell_type": "code",
   "execution_count": 313,
   "metadata": {},
   "outputs": [
    {
     "name": "stdout",
     "output_type": "stream",
     "text": [
      "Populating the interactive namespace from numpy and matplotlib\n"
     ]
    }
   ],
   "source": [
    "%pylab inline"
   ]
  },
  {
   "cell_type": "code",
   "execution_count": 339,
   "metadata": {},
   "outputs": [],
   "source": [
    "n_part = 100\n",
    "#dimensions = 10\n",
    "init_pos = np.random.randn(n_part,3)*100\n",
    "init_vel = np.random.randn(n_part,3)*1"
   ]
  },
  {
   "cell_type": "code",
   "execution_count": 364,
   "metadata": {},
   "outputs": [],
   "source": [
    "from jax.experimental.ode import odeint #could use diffrax here too\n",
    "#from scipy.integrate import odeint\n",
    "snapshots=jnp.linspace(0,100,1000)\n",
    "\n",
    "res = odeint(make_ode_pp(grav=100), [init_pos, init_vel], snapshots,rtol=1e-5, atol=1e-5)\n"
   ]
  },
  {
   "cell_type": "code",
   "execution_count": 381,
   "metadata": {},
   "outputs": [
    {
     "data": {
      "text/plain": [
       "<matplotlib.legend.Legend at 0x7f0b57adbfa0>"
      ]
     },
     "execution_count": 381,
     "metadata": {},
     "output_type": "execute_result"
    },
    {
     "data": {
      "image/png": "[encoded data removed]",
      "text/plain": [
       "<Figure size 432x288 with 1 Axes>"
      ]
     },
     "metadata": {
      "needs_background": "light"
     },
     "output_type": "display_data"
    }
   ],
   "source": [
    "plt.plot(res[0][0,:,0],res[0][0,:,2],\"k.\",label = \"initial\")\n",
    "plt.plot(res[0][-1,:,0],res[0][-1,:,2],\"r.\",label = \"final\")\n",
    "pid = 2\n",
    "plt.plot(res[0][:,pid,0],res[0][:,pid,2],\"b\",label = \"example trajectory\")\n",
    "\n",
    "pid = 76\n",
    "plt.plot(res[0][:,pid,0],res[0][:,pid,2],\"green\",label = \"example trajectory\")\n",
    "\n",
    "\n",
    "plt.legend()"
   ]
  },
  {
   "cell_type": "code",
   "execution_count": null,
   "metadata": {},
   "outputs": [],
   "source": [
    "#many particles enter chaotic motion and end up in the center, other ones get thrown out of the halo"
   ]
  },
  {
   "cell_type": "code",
   "execution_count": 372,
   "metadata": {},
   "outputs": [
    {
     "data": {
      "text/plain": [
       "<matplotlib.legend.Legend at 0x7f0b57e2dee0>"
      ]
     },
     "execution_count": 372,
     "metadata": {},
     "output_type": "execute_result"
    },
    {
     "data": {
      "image/png": "[encoded data removed]",
      "text/plain": [
       "<Figure size 432x288 with 1 Axes>"
      ]
     },
     "metadata": {
      "needs_background": "light"
     },
     "output_type": "display_data"
    }
   ],
   "source": [
    "plt.hist(res[0][-1,:,2],alpha=0.5,label = \"final\")\n",
    "plt.hist(res[0][0,:,2],alpha=0.5,label = \"initial\")\n",
    "plt.legend()"
   ]
  },
  {
   "cell_type": "code",
   "execution_count": null,
   "metadata": {},
   "outputs": [],
   "source": []
  }
 ],
 "metadata": {
  "kernelspec": {
   "display_name": "jax-gpu",
   "language": "python",
   "name": "jax-gpu"
  },
  "language_info": {
   "codemirror_mode": {
    "name": "ipython",
    "version": 3
   },
   "file_extension": ".py",
   "mimetype": "text/x-python",
   "name": "python",
   "nbconvert_exporter": "python",
   "pygments_lexer": "ipython3",
   "version": "3.9.21"
  }
 },
 "nbformat": 4,
 "nbformat_minor": 4
}
